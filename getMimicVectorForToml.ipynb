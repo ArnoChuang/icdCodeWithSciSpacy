{
 "cells": [
  {
   "cell_type": "code",
   "execution_count": null,
   "metadata": {},
   "outputs": [],
   "source": [
    "import spacy\n",
    "import pandas as pd\n",
    "from scispacy_fun.CustomSpacyF import  CustomSpacyF"
   ]
  },
  {
   "cell_type": "markdown",
   "metadata": {},
   "source": [
    "## load sicspacy's model"
   ]
  },
  {
   "cell_type": "code",
   "execution_count": null,
   "metadata": {},
   "outputs": [],
   "source": [
    "strVer = \"10\"\n",
    "csf  = CustomSpacyF()\n"
   ]
  },
  {
   "cell_type": "markdown",
   "metadata": {},
   "source": [
    "##  get single word's vector from scispacy model"
   ]
  },
  {
   "cell_type": "code",
   "execution_count": null,
   "metadata": {},
   "outputs": [],
   "source": [
    "print(csf.getVector(\"psychosis\"))"
   ]
  },
  {
   "cell_type": "markdown",
   "metadata": {},
   "source": [
    "##  get sentence's vector from scispacy model\n"
   ]
  },
  {
   "cell_type": "code",
   "execution_count": null,
   "metadata": {},
   "outputs": [],
   "source": [
    "print(csf.getSentenceVector(\"heart type disease\"))\n",
    "print(csf.getSentenceVector(\"neurological type disease\"))"
   ]
  },
  {
   "cell_type": "markdown",
   "metadata": {},
   "source": [
    "## load disease and icd code form config"
   ]
  },
  {
   "cell_type": "code",
   "execution_count": null,
   "metadata": {},
   "outputs": [],
   "source": [
    "import toml \n",
    "\n",
    "dicTmp = toml.load(\"icd.toml\")\n",
    "\n",
    "dicFIcdTen = {}\n",
    "\n",
    "strCodeList = \"\"\n",
    "for disease ,icd in dicTmp.items():\n",
    "    for version ,code in icd.items():\n",
    "        if version == 'v'+strVer:\n",
    "            strCodeList = \"','\".join(code)\n",
    "            dicFIcdTen[disease] = \"'\"+strCodeList+\"'\""
   ]
  },
  {
   "cell_type": "markdown",
   "metadata": {},
   "source": [
    "## connect to mimic db"
   ]
  },
  {
   "cell_type": "code",
   "execution_count": null,
   "metadata": {},
   "outputs": [],
   "source": [
    "import psycopg2\n",
    "\n",
    "host = \"203.64.95.185\"\n",
    "dbname = \"postgres\"\n",
    "user = \"nkust1108\"\n",
    "password = \"nkust1108\"\n",
    "\n",
    "conn_string = f\"host={host} dbname={dbname} user={user} password={password}\"\n",
    "\n",
    "conn = psycopg2.connect(conn_string)\n",
    "cursor = conn.cursor()\n",
    "\n",
    "def excuteSqlToDict(cursor,strSql):\n",
    "    dic = {}\n",
    "\n",
    "    strKey = \"\"\n",
    "    strVal = \"\"\n",
    "\n",
    "    cursor.execute(strSql)\n",
    "\n",
    "    for row in cursor:\n",
    "        strKey = row[0].strip()\n",
    "        strVal = row[1].strip()\n",
    "        dic[strKey] = strVal\n",
    "    return dic\n"
   ]
  },
  {
   "cell_type": "markdown",
   "metadata": {},
   "source": [
    "## get disease feature(long title) by icd code from mimic db"
   ]
  },
  {
   "cell_type": "code",
   "execution_count": null,
   "metadata": {},
   "outputs": [],
   "source": [
    "def excuteSqlToDict(cursor,strSql):\n",
    "    dic = {}\n",
    "\n",
    "    strKey = \"\"\n",
    "    strVal = \"\"\n",
    "\n",
    "    cursor.execute(strSql)\n",
    "\n",
    "    for row in cursor:\n",
    "        strKey = row[0].strip()\n",
    "        strVal = row[1].strip()\n",
    "        dic[strKey] = strVal\n",
    "    return dic\n"
   ]
  },
  {
   "cell_type": "code",
   "execution_count": null,
   "metadata": {},
   "outputs": [],
   "source": [
    "def getDiseaseFeatureByIcdCode(dicFIcdTen,blnContainsBlank=False,strVer = \"10\"):\n",
    "    strSql = \"\"\n",
    "    dicIcdInfo = {}\n",
    "    dicTmp = {}\n",
    "\n",
    "    dicRtn={}\n",
    "    for disease,strIcdCodeList in dicFIcdTen.items():\n",
    "\n",
    "        strSql = \"\"\"\n",
    "            select\n",
    "                icd_code,long_title \n",
    "            from \n",
    "                mimic_hosp.d_icd_diagnoses\n",
    "            where\n",
    "                icd_version = \"\"\"+ strVer +\"\"\"\n",
    "            and\n",
    "                icd_code in (\"\"\" + strIcdCodeList + \"\"\")\n",
    "            order by icd_code asc\n",
    "        \"\"\"\n",
    "\n",
    "        dicIcdInfo = excuteSqlToDict(cursor,strSql)\n",
    "        \n",
    "        dicTmp = {}\n",
    "        for code,title in dicIcdInfo.items():\n",
    "            if blnContainsBlank == False:\n",
    "                if  ((\" \") in title) == False:\n",
    "                    dicTmp[code] = title\n",
    "            else:\n",
    "                dicTmp[code] = title\n",
    "\n",
    "        if len(dicTmp) != 0:         \n",
    "            dicRtn[disease] = dicTmp\n",
    "\n",
    "    return dicRtn\n",
    "\n",
    "#get disease feature\n",
    "dicIcdInfo = getDiseaseFeatureByIcdCode(dicFIcdTen,blnContainsBlank = True,strVer = strVer)\n",
    "\n",
    "print(len(dicIcdInfo))\n",
    "# for disease,dic in dicIcdInfo.items():\n",
    "#     print(disease) \n",
    "#     for code,title in dic.items():\n",
    "#         print(code,title)\n",
    "#     print(\"\")\n"
   ]
  },
  {
   "cell_type": "markdown",
   "metadata": {},
   "source": [
    "## get disease feature's vector and export to csv"
   ]
  },
  {
   "cell_type": "code",
   "execution_count": null,
   "metadata": {},
   "outputs": [],
   "source": [
    "dicVector = {}\n",
    "dicTmp = {}\n",
    "aryVec = []\n",
    "\n",
    "for disease,dic in dicIcdInfo.items():\n",
    "\n",
    "    dicTmp = {}\n",
    "    for code,title in dic.items():\n",
    "        aryVec = csf.getSentenceVector(title,blnStayComma = False,blnStayBrackets = False)\n",
    "        #print(title,vec)\n",
    "        strNewTitle = aryVec[0]\n",
    "        odjVec = aryVec[1]\n",
    "        dicTmp[code] = [strNewTitle,odjVec]\n",
    "\n",
    "    dicVector[disease] = dicTmp\n",
    "    "
   ]
  },
  {
   "cell_type": "code",
   "execution_count": null,
   "metadata": {},
   "outputs": [],
   "source": [
    "lstDisease = []\n",
    "lstIcdCode = []\n",
    "lstTitle = []\n",
    "lstVec = []\n",
    "for disease,dic in dicVector.items():\n",
    "    for code,ary in dic.items():\n",
    "        lstDisease.append(disease)\n",
    "        lstIcdCode.append(code)\n",
    "        lstTitle.append(ary[0])\n",
    "        lstVec.append(ary[1])\n",
    "        print(ary[0],ary[1])\n",
    "\n",
    "from datetime import datetime\n",
    "strDate = datetime.now().strftime(\"%Y_%m_%d_%H_%M_%S\")\n",
    "strFileName = \"icd\"+strVer+\"_vec_\" + strDate + \".csv\"\n",
    "d = {\"disease\":lstDisease,\"icd_code\":lstIcdCode,\"title\":lstTitle,\"vector\":lstVec}\n",
    "df = pd.DataFrame(data=d)\n",
    "df.to_csv(strFileName)\n"
   ]
  }
 ],
 "metadata": {
  "interpreter": {
   "hash": "883d146e125829118e24069cc7b1a346fb29d913dbb8228438d22a0dd8540ce7"
  },
  "kernelspec": {
   "display_name": "Python 3.8.12 ('scispacy')",
   "language": "python",
   "name": "python3"
  },
  "language_info": {
   "codemirror_mode": {
    "name": "ipython",
    "version": 3
   },
   "file_extension": ".py",
   "mimetype": "text/x-python",
   "name": "python",
   "nbconvert_exporter": "python",
   "pygments_lexer": "ipython3",
   "version": "3.8.12"
  },
  "orig_nbformat": 4
 },
 "nbformat": 4,
 "nbformat_minor": 2
}
