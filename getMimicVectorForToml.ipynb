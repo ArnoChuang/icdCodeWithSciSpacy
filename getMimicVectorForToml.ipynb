{
 "cells": [
  {
   "cell_type": "code",
   "execution_count": 32,
   "metadata": {},
   "outputs": [],
   "source": [
    "import spacy\n",
    "import pandas as pd\n",
    "import scispacy. as sv"
   ]
  },
  {
   "cell_type": "markdown",
   "metadata": {},
   "source": [
    "## load sicspacy's model"
   ]
  },
  {
   "cell_type": "code",
   "execution_count": 33,
   "metadata": {},
   "outputs": [],
   "source": [
    "strVer = \"10\"\n",
    "nlp = spacy.load(\"en_core_sci_lg\")"
   ]
  },
  {
   "cell_type": "markdown",
   "metadata": {},
   "source": [
    "##  get single word's vector from scispacy model"
   ]
  },
  {
   "cell_type": "code",
   "execution_count": 34,
   "metadata": {},
   "outputs": [
    {
     "name": "stdout",
     "output_type": "stream",
     "text": [
      "psychosis 3.1402366\n"
     ]
    }
   ],
   "source": [
    "dicVector = sv.getVector(nlp,\"psychosis\")\n",
    "\n",
    "for word,vec in dicVector.items():\n",
    "    print(word,vec)"
   ]
  },
  {
   "cell_type": "markdown",
   "metadata": {},
   "source": [
    "##  get sentence's vector from scispacy model\n"
   ]
  },
  {
   "cell_type": "code",
   "execution_count": 35,
   "metadata": {},
   "outputs": [
    {
     "name": "stdout",
     "output_type": "stream",
     "text": [
      "['heart type disease', 1.8547993]\n",
      "['neurological type disease', 1.7834562]\n"
     ]
    }
   ],
   "source": [
    "print(sv.getSentenceVector(nlp,\"heart type disease\"))\n",
    "print(sv.getSentenceVector(nlp,\"neurological type disease\"))"
   ]
  },
  {
   "cell_type": "markdown",
   "metadata": {},
   "source": [
    "## load disease and icd code form config"
   ]
  },
  {
   "cell_type": "code",
   "execution_count": 36,
   "metadata": {},
   "outputs": [],
   "source": [
    "import toml \n",
    "\n",
    "dicTmp = toml.load(\"/Users/alros/lab/mimic/icd.toml\")\n",
    "\n",
    "dicFIcdTen = {}\n",
    "\n",
    "strCodeList = \"\"\n",
    "for disease ,icd in dicTmp.items():\n",
    "    for version ,code in icd.items():\n",
    "        if version == 'v'+strVer:\n",
    "            strCodeList = \"','\".join(code)\n",
    "            dicFIcdTen[disease] = \"'\"+strCodeList+\"'\""
   ]
  },
  {
   "cell_type": "markdown",
   "metadata": {},
   "source": [
    "## connect to mimic db"
   ]
  },
  {
   "cell_type": "code",
   "execution_count": 37,
   "metadata": {},
   "outputs": [],
   "source": [
    "import psycopg2\n",
    "\n",
    "host = \"203.64.95.185\"\n",
    "dbname = \"postgres\"\n",
    "user = \"nkust1108\"\n",
    "password = \"nkust1108\"\n",
    "\n",
    "conn_string = f\"host={host} dbname={dbname} user={user} password={password}\"\n",
    "\n",
    "conn = psycopg2.connect(conn_string)\n",
    "cursor = conn.cursor()\n",
    "\n",
    "def excuteSqlToDict(cursor,strSql):\n",
    "    dic = {}\n",
    "\n",
    "    strKey = \"\"\n",
    "    strVal = \"\"\n",
    "\n",
    "    cursor.execute(strSql)\n",
    "\n",
    "    for row in cursor:\n",
    "        strKey = row[0].strip()\n",
    "        strVal = row[1].strip()\n",
    "        dic[strKey] = strVal\n",
    "    return dic\n"
   ]
  },
  {
   "cell_type": "markdown",
   "metadata": {},
   "source": [
    "## get disease feature(long title) by icd code from mimic db"
   ]
  },
  {
   "cell_type": "code",
   "execution_count": 38,
   "metadata": {},
   "outputs": [],
   "source": [
    "def excuteSqlToDict(cursor,strSql):\n",
    "    dic = {}\n",
    "\n",
    "    strKey = \"\"\n",
    "    strVal = \"\"\n",
    "\n",
    "    cursor.execute(strSql)\n",
    "\n",
    "    for row in cursor:\n",
    "        strKey = row[0].strip()\n",
    "        strVal = row[1].strip()\n",
    "        dic[strKey] = strVal\n",
    "    return dic\n"
   ]
  },
  {
   "cell_type": "code",
   "execution_count": 40,
   "metadata": {},
   "outputs": [],
   "source": [
    "def getDiseaseFeatureByIcdCode(dicFIcdTen,blnContainsBlank=False,strVer = \"10\"):\n",
    "    strSql = \"\"\n",
    "    dicIcdInfo = {}\n",
    "    dicTmp = {}\n",
    "\n",
    "    dicRtn={}\n",
    "    for disease,strIcdCodeList in dicFIcdTen.items():\n",
    "\n",
    "        strSql = \"\"\"\n",
    "            select\n",
    "                icd_code,long_title \n",
    "            from \n",
    "                mimic_hosp.d_icd_diagnoses\n",
    "            where\n",
    "                icd_version = \"\"\"+ strVer +\"\"\"\n",
    "            and\n",
    "                icd_code in (\"\"\" + strIcdCodeList + \"\"\")\n",
    "            order by icd_code asc\n",
    "        \"\"\"\n",
    "\n",
    "        dicIcdInfo = excuteSqlToDict(cursor,strSql)\n",
    "        \n",
    "        dicTmp = {}\n",
    "        for code,title in dicIcdInfo.items():\n",
    "            if blnContainsBlank == False:\n",
    "                if  ((\" \") in title) == False:\n",
    "                    dicTmp[code] = title\n",
    "            else:\n",
    "                dicTmp[code] = title\n",
    "\n",
    "        if len(dicTmp) != 0:         \n",
    "            dicRtn[disease] = dicTmp\n",
    "\n",
    "    return dicRtn\n",
    "\n",
    "#get disease feature\n",
    "dicIcdInfo = getDiseaseFeatureByIcdCode(dicFIcdTen,blnContainsBlank = True,strVer = strVer)\n",
    "\n",
    "print(len(dicIcdInfo))\n",
    "# for disease,dic in dicIcdInfo.items():\n",
    "#     print(disease) \n",
    "#     for code,title in dic.items():\n",
    "#         print(code,title)\n",
    "#     print(\"\")\n"
   ]
  },
  {
   "cell_type": "markdown",
   "metadata": {},
   "source": [
    "## get disease feature's vector and export to csv"
   ]
  },
  {
   "cell_type": "code",
   "execution_count": 41,
   "metadata": {},
   "outputs": [
    {
     "ename": "AttributeError",
     "evalue": "'str' object has no attribute 'items'",
     "output_type": "error",
     "traceback": [
      "\u001b[0;31m---------------------------------------------------------------------------\u001b[0m",
      "\u001b[0;31mAttributeError\u001b[0m                            Traceback (most recent call last)",
      "\u001b[1;32m/Users/alros/lab/nlp/scispacyModel/getMimicVec/getMimicVector.ipynb Cell 17'\u001b[0m in \u001b[0;36m<module>\u001b[0;34m\u001b[0m\n\u001b[1;32m      <a href='vscode-notebook-cell:/Users/alros/lab/nlp/scispacyModel/getMimicVec/getMimicVector.ipynb#ch0000015?line=4'>5</a>\u001b[0m \u001b[39mfor\u001b[39;00m disease,dic \u001b[39min\u001b[39;00m dicIcdInfo\u001b[39m.\u001b[39mitems():\n\u001b[1;32m      <a href='vscode-notebook-cell:/Users/alros/lab/nlp/scispacyModel/getMimicVec/getMimicVector.ipynb#ch0000015?line=6'>7</a>\u001b[0m     dicTmp \u001b[39m=\u001b[39m {}\n\u001b[0;32m----> <a href='vscode-notebook-cell:/Users/alros/lab/nlp/scispacyModel/getMimicVec/getMimicVector.ipynb#ch0000015?line=7'>8</a>\u001b[0m     \u001b[39mfor\u001b[39;00m code,title \u001b[39min\u001b[39;00m dic\u001b[39m.\u001b[39;49mitems():\n\u001b[1;32m      <a href='vscode-notebook-cell:/Users/alros/lab/nlp/scispacyModel/getMimicVec/getMimicVector.ipynb#ch0000015?line=8'>9</a>\u001b[0m         aryVec \u001b[39m=\u001b[39m sv\u001b[39m.\u001b[39mgetSentenceVector(nlp,title,blnStayComma \u001b[39m=\u001b[39m \u001b[39mFalse\u001b[39;00m,blnStayBrackets \u001b[39m=\u001b[39m \u001b[39mFalse\u001b[39;00m)\n\u001b[1;32m     <a href='vscode-notebook-cell:/Users/alros/lab/nlp/scispacyModel/getMimicVec/getMimicVector.ipynb#ch0000015?line=9'>10</a>\u001b[0m         \u001b[39m#print(title,vec)\u001b[39;00m\n",
      "\u001b[0;31mAttributeError\u001b[0m: 'str' object has no attribute 'items'"
     ]
    }
   ],
   "source": [
    "dicVector = {}\n",
    "dicTmp = {}\n",
    "aryVec = []\n",
    "\n",
    "for disease,dic in dicIcdInfo.items():\n",
    "\n",
    "    dicTmp = {}\n",
    "    for code,title in dic.items():\n",
    "        aryVec = sv.getSentenceVector(nlp,title,blnStayComma = False,blnStayBrackets = False)\n",
    "        #print(title,vec)\n",
    "        strNewTitle = aryVec[0]\n",
    "        odjVec = aryVec[1]\n",
    "        dicTmp[code] = [strNewTitle,odjVec]\n",
    "\n",
    "    dicVector[disease] = dicTmp\n",
    "    "
   ]
  },
  {
   "cell_type": "code",
   "execution_count": null,
   "metadata": {},
   "outputs": [],
   "source": [
    "lstDisease = []\n",
    "lstIcdCode = []\n",
    "lstTitle = []\n",
    "lstVec = []\n",
    "for disease,dic in dicVector.items():\n",
    "    for code,ary in dic.items():\n",
    "        lstDisease.append(disease)\n",
    "        lstIcdCode.append(code)\n",
    "        lstTitle.append(ary[0])\n",
    "        lstVec.append(ary[1])\n",
    "        print(ary[0],ary[1])\n",
    "\n",
    "from datetime import datetime\n",
    "strDate = datetime.now().strftime(\"%Y_%m_%d_%H_%M_%S\")\n",
    "strFileName = \"icd\"+strVer+\"_vec_\" + strDate + \".csv\"\n",
    "d = {\"disease\":lstDisease,\"icd_code\":lstIcdCode,\"title\":lstTitle,\"vector\":lstVec}\n",
    "df = pd.DataFrame(data=d)\n",
    "df.to_csv(strFileName)\n"
   ]
  }
 ],
 "metadata": {
  "interpreter": {
   "hash": "883d146e125829118e24069cc7b1a346fb29d913dbb8228438d22a0dd8540ce7"
  },
  "kernelspec": {
   "display_name": "Python 3.8.12 ('scispacy')",
   "language": "python",
   "name": "python3"
  },
  "language_info": {
   "codemirror_mode": {
    "name": "ipython",
    "version": 3
   },
   "file_extension": ".py",
   "mimetype": "text/x-python",
   "name": "python",
   "nbconvert_exporter": "python",
   "pygments_lexer": "ipython3",
   "version": "3.8.12"
  },
  "orig_nbformat": 4
 },
 "nbformat": 4,
 "nbformat_minor": 2
}
