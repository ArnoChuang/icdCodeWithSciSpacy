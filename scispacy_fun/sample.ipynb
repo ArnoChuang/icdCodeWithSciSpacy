{
 "cells": [
  {
   "cell_type": "code",
   "execution_count": 1,
   "metadata": {},
   "outputs": [],
   "source": [
    "import spacy\n",
    "import pandas as pd\n",
    "from CustomSpacyF import CustomSpacyF"
   ]
  },
  {
   "cell_type": "markdown",
   "metadata": {},
   "source": [
    "## load sicspacy's model"
   ]
  },
  {
   "cell_type": "code",
   "execution_count": 2,
   "metadata": {},
   "outputs": [],
   "source": [
    "csf = CustomSpacyF(\"en_core_sci_lg\")"
   ]
  },
  {
   "cell_type": "markdown",
   "metadata": {},
   "source": [
    "##  get single word's vector from scispacy model"
   ]
  },
  {
   "cell_type": "code",
   "execution_count": 3,
   "metadata": {},
   "outputs": [
    {
     "name": "stdout",
     "output_type": "stream",
     "text": [
      "['psychosis', 3.1402366]\n"
     ]
    }
   ],
   "source": [
    "print(csf.getVector(\"psychosis\"))"
   ]
  },
  {
   "cell_type": "markdown",
   "metadata": {},
   "source": [
    "##  get sentence's vector from scispacy model\n"
   ]
  },
  {
   "cell_type": "code",
   "execution_count": 4,
   "metadata": {},
   "outputs": [
    {
     "name": "stdout",
     "output_type": "stream",
     "text": [
      "['heart type disease', 1.8547993]\n",
      "['neurological type disease', 1.7834562]\n",
      "['psychosis', 3.1402366]\n"
     ]
    }
   ],
   "source": [
    "print(csf.getSentenceVector(\"heart type disease\"))\n",
    "print(csf.getSentenceVector(\"neurological type disease\"))\n",
    "\n",
    "print(csf.getSentenceVector(\"psychosis\"))"
   ]
  }
 ],
 "metadata": {
  "kernelspec": {
   "display_name": "Python 3.10.6 ('base')",
   "language": "python",
   "name": "python3"
  },
  "language_info": {
   "codemirror_mode": {
    "name": "ipython",
    "version": 3
   },
   "file_extension": ".py",
   "mimetype": "text/x-python",
   "name": "python",
   "nbconvert_exporter": "python",
   "pygments_lexer": "ipython3",
   "version": "3.10.6"
  },
  "orig_nbformat": 4,
  "vscode": {
   "interpreter": {
    "hash": "09a8e686958450c6cc8f79041eaaaf6e941ceae0919d55f513bd772535902c03"
   }
  }
 },
 "nbformat": 4,
 "nbformat_minor": 2
}
