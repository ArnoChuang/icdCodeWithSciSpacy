{
 "cells": [
  {
   "cell_type": "code",
   "execution_count": 1,
   "metadata": {},
   "outputs": [],
   "source": [
    "import spacy\n",
    "import pandas as pd\n",
    "from scispacy_fun.CustomSpacyF import  CustomSpacyF "
   ]
  },
  {
   "cell_type": "markdown",
   "metadata": {},
   "source": [
    "## load sicspacy's model"
   ]
  },
  {
   "cell_type": "code",
   "execution_count": 2,
   "metadata": {},
   "outputs": [],
   "source": [
    "strVer = \"10\"\n",
    "csf  = CustomSpacyF()"
   ]
  },
  {
   "cell_type": "markdown",
   "metadata": {},
   "source": [
    "##  get single word's vector from scispacy model"
   ]
  },
  {
   "cell_type": "code",
   "execution_count": null,
   "metadata": {},
   "outputs": [],
   "source": [
    "dicVector = csf.getVector(\"psychosis\")\n",
    "\n",
    "for word,vec in dicVector.items():\n",
    "    print(word,vec)"
   ]
  },
  {
   "cell_type": "markdown",
   "metadata": {},
   "source": [
    "##  get sentence's vector from scispacy model\n"
   ]
  },
  {
   "cell_type": "code",
   "execution_count": null,
   "metadata": {},
   "outputs": [],
   "source": [
    "print(csf.getSentenceVector(\"heart type disease\"))\n",
    "print(csf.getSentenceVector(\"neurological type disease\"))"
   ]
  },
  {
   "cell_type": "markdown",
   "metadata": {},
   "source": [
    "## connect to mimic db"
   ]
  },
  {
   "cell_type": "code",
   "execution_count": null,
   "metadata": {},
   "outputs": [],
   "source": [
    "def getConnString(path:str = './db_conn.txt')->dict:\n",
    "    dic_conn_str = {}\n",
    "\n",
    "    f = open('./db_conn.txt', 'r')\n",
    "\n",
    "    lst_tmp = []\n",
    "    for line in f.readlines():\n",
    "        lst_tmp = line.split(':')\n",
    "        dic_conn_str[lst_tmp[0]] = lst_tmp[1].replace('\\n','')\n",
    "\n",
    "    f.close()\n",
    "    del lst_tmp\n",
    "\n",
    "    print(dic_conn_str)\n",
    "    return dic_conn_str"
   ]
  },
  {
   "cell_type": "code",
   "execution_count": null,
   "metadata": {},
   "outputs": [],
   "source": [
    "import psycopg2\n",
    "\n",
    "dic = getConnString(path='db_conn.txt')\n",
    "\n",
    "conn_string = f\"host={dic['host']} dbname={dic['dbname']} user={dic['user']} password={dic['password']}\"\n",
    "\n",
    "conn = psycopg2.connect(conn_string)\n",
    "cursor = conn.cursor()\n",
    "\n",
    "def excuteSqlToDict(cursor,strSql):\n",
    "    dic = {}\n",
    "\n",
    "    strKey = \"\"\n",
    "    strVal = \"\"\n",
    "\n",
    "    cursor.execute(strSql)\n",
    "\n",
    "    for row in cursor:\n",
    "        strKey = row[0].strip()\n",
    "        strVal = row[1].strip()\n",
    "        dic[strKey] = strVal\n",
    "    return dic\n"
   ]
  },
  {
   "cell_type": "markdown",
   "metadata": {},
   "source": [
    "## get disease feature(long title) by icd code from mimic db"
   ]
  },
  {
   "cell_type": "code",
   "execution_count": null,
   "metadata": {},
   "outputs": [],
   "source": [
    "def excuteSqlToDict(cursor,strSql):\n",
    "    dic = {}\n",
    "\n",
    "    strKey = \"\"\n",
    "    strVal = \"\"\n",
    "\n",
    "    cursor.execute(strSql)\n",
    "\n",
    "    for row in cursor:\n",
    "        strKey = row[0].strip()\n",
    "        strVal = row[1].strip()\n",
    "        dic[strKey] = strVal\n",
    "    return dic\n"
   ]
  },
  {
   "cell_type": "code",
   "execution_count": null,
   "metadata": {},
   "outputs": [],
   "source": [
    "def getIcdCodeByVersion(cursor,icd_code_list):\n",
    "    strSql = \"\"\"\n",
    "        select\n",
    "            icd_code,long_title \n",
    "        from \n",
    "            mimic_hosp.d_icd_diagnoses\n",
    "        where\n",
    "            icd_version = \"\"\"+ strVer +\"\"\"\n",
    "        and\n",
    "            icd_code in (\"\"\" + icd_code_list + \"\"\")\n",
    "        order by icd_code asc\n",
    "    \"\"\"\n",
    "\n",
    "    return excuteSqlToDict(cursor,strSql)\n",
    "\n"
   ]
  },
  {
   "cell_type": "markdown",
   "metadata": {},
   "source": [
    "## get input data by funtion: \"getIcdCodeByVersion\""
   ]
  },
  {
   "cell_type": "code",
   "execution_count": null,
   "metadata": {},
   "outputs": [],
   "source": [
    "lstIcdCode = []\n",
    "f = open('icdCodeBySubId_10.txt')\n",
    "\n",
    "strIcdCodeList = \"\"\n",
    "for s in f.readlines():\n",
    "    lst = s.split(\":\")\n",
    "    if len(lst)== 2:\n",
    "        lst = lst[1].split(\",\")\n",
    "        for icdCode in lst:\n",
    "            \n",
    "            strTmp = icdCode.strip() \n",
    "            if strTmp not in strIcdCodeList:\n",
    "                strIcdCodeList = strIcdCodeList + \"'\" + strTmp + \"',\"\n",
    "                lstIcdCode.append(strTmp)\n",
    "            # else:\n",
    "            #     print(icdCode)\n",
    "\n",
    "strIcdCodeList = strIcdCodeList[0:len(strIcdCodeList)-1]\n",
    "\n",
    "print(len(strIcdCodeList.split(\",\")))\n",
    "print(len(lstIcdCode))"
   ]
  },
  {
   "cell_type": "code",
   "execution_count": null,
   "metadata": {},
   "outputs": [],
   "source": [
    "dicIcdInfo = getIcdCodeByVersion(cursor,strIcdCodeList)"
   ]
  },
  {
   "cell_type": "code",
   "execution_count": null,
   "metadata": {},
   "outputs": [],
   "source": [
    "print(len(dicIcdInfo))\n",
    "for key,val in dicIcdInfo.items():\n",
    "    print(key,val)\n",
    "    break\n"
   ]
  },
  {
   "cell_type": "markdown",
   "metadata": {},
   "source": [
    "## get disease feature's vector and export to csv"
   ]
  },
  {
   "cell_type": "code",
   "execution_count": null,
   "metadata": {},
   "outputs": [],
   "source": [
    "dicVector = {}\n",
    "dicTmp = {}\n",
    "aryVec = []\n",
    "\n",
    "from datetime import datetime\n",
    "strDate = datetime.now().strftime(\"%Y_%m_%d_%H_%M_%S\")\n",
    "strFileName = \"icd\"+strVer+\"_vec_\" + strDate + \".txt\"\n",
    "\n",
    "f = open(strFileName,\"w\")\n",
    "\n",
    "intCount = 0\n",
    "for icdCode,longTitle in dicIcdInfo.items():\n",
    "\n",
    "    aryVec = csf.getSentenceVector(longTitle,blnStayComma = False,blnStayBrackets = False)\n",
    "\n",
    "    strNewTitle = aryVec[0]\n",
    "    odjVec = aryVec[1]\n",
    "\n",
    "    #s = icdCode + \",\" + strNewTitle + \",\" + str(odjVec)\n",
    "    s = icdCode + \",\" + str(odjVec)\n",
    "    print(intCount,s)\n",
    "    if intCount < 10:\n",
    "        f.write(s + \"\\n\")\n",
    "    intCount += 1\n",
    "\n",
    "print('count:',intCount)\n",
    "\n",
    "f.close()\n",
    "\n",
    "    "
   ]
  }
 ],
 "metadata": {
  "interpreter": {
   "hash": "883d146e125829118e24069cc7b1a346fb29d913dbb8228438d22a0dd8540ce7"
  },
  "kernelspec": {
   "display_name": "Python 3.8.12 ('scispacy')",
   "language": "python",
   "name": "python3"
  },
  "language_info": {
   "codemirror_mode": {
    "name": "ipython",
    "version": 3
   },
   "file_extension": ".py",
   "mimetype": "text/x-python",
   "name": "python",
   "nbconvert_exporter": "python",
   "pygments_lexer": "ipython3",
   "version": "3.10.6"
  },
  "orig_nbformat": 4
 },
 "nbformat": 4,
 "nbformat_minor": 2
}
