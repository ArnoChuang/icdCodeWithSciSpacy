{
 "cells": [
  {
   "cell_type": "code",
   "execution_count": null,
   "metadata": {},
   "outputs": [],
   "source": [
    "import pandas as pd\n",
    "import numpy as np\n",
    "import seaborn as sns\n",
    "import matplotlib.pyplot as plt\n",
    "\n",
    "from datetime import datetime\n",
    "import os"
   ]
  },
  {
   "cell_type": "markdown",
   "metadata": {},
   "source": [
    "## export setting"
   ]
  },
  {
   "cell_type": "code",
   "execution_count": null,
   "metadata": {},
   "outputs": [],
   "source": [
    "strDate = datetime.now().strftime(\"%Y_%m_%d_%H_%M_%S\")\n",
    "icd_version = \"10\"\n",
    "output_path = \"\"\n",
    "input_path = \"icd10/icd10_title_vector.csv\"\n"
   ]
  },
  {
   "cell_type": "code",
   "execution_count": null,
   "metadata": {},
   "outputs": [],
   "source": [
    "if icd_version == \"10\":\n",
    "    output_path = \"icd10_result\"\n",
    "else:\n",
    "    output_path = \"icd9_result\"\n",
    "\n",
    "if os.path.isdir(output_path) == False:\n",
    "    os.mkdir(output_path)\n",
    "\n",
    "output_path = output_path+\"/\"+strDate\n",
    "\n",
    "if os.path.isdir(output_path) == False:\n",
    "    os.mkdir(output_path)"
   ]
  },
  {
   "cell_type": "code",
   "execution_count": null,
   "metadata": {},
   "outputs": [],
   "source": [
    "df_ori = pd.read_csv(input_path)\n",
    "df = df_ori \n",
    "df.columns\n"
   ]
  },
  {
   "cell_type": "code",
   "execution_count": null,
   "metadata": {},
   "outputs": [],
   "source": [
    "df.head()"
   ]
  },
  {
   "cell_type": "markdown",
   "metadata": {},
   "source": [
    "## check outlier by scatterplot "
   ]
  },
  {
   "cell_type": "code",
   "execution_count": null,
   "metadata": {},
   "outputs": [],
   "source": [
    "df[\"disease_type\"] = 0\n",
    "\n",
    "df[\"disease_type\"] = df[\"disease_type\"].astype(int)\n",
    "\n",
    "dg = df.groupby('disease')\n",
    "\n",
    "lstDiseaseT = []\n",
    "\n",
    "for group_key, group_value in dg:\n",
    "    if group_key not in lstDiseaseT:\n",
    "        lstDiseaseT.append(group_key)\n",
    "    df.loc[(df.disease == group_key),['disease_type']] = lstDiseaseT.index(group_key)\n",
    "\n",
    "print(lstDiseaseT) \n"
   ]
  },
  {
   "cell_type": "code",
   "execution_count": null,
   "metadata": {},
   "outputs": [],
   "source": [
    "df.head()"
   ]
  },
  {
   "cell_type": "code",
   "execution_count": null,
   "metadata": {},
   "outputs": [],
   "source": [
    "df.loc[(df.disease_type == 1),:].head()"
   ]
  },
  {
   "cell_type": "code",
   "execution_count": null,
   "metadata": {},
   "outputs": [],
   "source": [
    "sns.set(rc = {'figure.figsize':(25,10)})\n",
    "g = sns.scatterplot(x = df.vector ,y = df.disease_type, hue=df.disease)\n",
    "strFileName = output_path+\"/icd\"+icd_version+\"_outlier.jpeg\"\n",
    "plt.savefig(strFileName, dpi = 300)\n"
   ]
  },
  {
   "cell_type": "markdown",
   "metadata": {},
   "source": [
    "## calculate: avg,median,std,max value,min value,std count,std count(avg)"
   ]
  },
  {
   "cell_type": "code",
   "execution_count": null,
   "metadata": {},
   "outputs": [],
   "source": [
    "df[\"AVG\"]=0\n",
    "df[\"MEDIAN\"]=0\n",
    "df[\"STD\"]=0\n",
    "df[\"MAX\"]=0\n",
    "df[\"MIN\"]=0\n",
    " \n",
    "for strD in lstDiseaseT:\n",
    "    max = float(df.loc[(df.disease==strD),[\"vector\"]].max())\n",
    "    min = float(df.loc[(df.disease==strD),[\"vector\"]].min())\n",
    "    avg = float(df.loc[(df.disease==strD),[\"vector\"]].mean())\n",
    "    med = float(df.loc[(df.disease==strD),[\"vector\"]].median())\n",
    "    std = float(df.loc[(df.disease==strD),[\"vector\"]].std())\n",
    "\n",
    "    df.loc[(df.disease == strD),['MAX']] = max\n",
    "    df.loc[(df.disease == strD),['MIN']] = min\n",
    "    df.loc[(df.disease == strD),['AVG']] = avg\n",
    "    df.loc[(df.disease == strD),['MEDIAN']] = med\n",
    "    df.loc[(df.disease == strD),['STD']] = std\n",
    "\n",
    "\n",
    "df.head()\n"
   ]
  },
  {
   "cell_type": "code",
   "execution_count": null,
   "metadata": {},
   "outputs": [],
   "source": [
    "df[\"STD_COUNT\"] = 0\n",
    "for idx in df.index:\n",
    "    df.iloc[idx,df.columns.get_loc('STD_COUNT')] = abs((df.iloc[idx].AVG - df.iloc[idx].vector) / df.iloc[idx].STD)\n",
    "    "
   ]
  },
  {
   "cell_type": "code",
   "execution_count": null,
   "metadata": {},
   "outputs": [],
   "source": [
    "df[\"STD_COUNT(AVG)\"] = 0\n",
    "for strD in lstDiseaseT:\n",
    "    df.loc[(df.disease == strD),['STD_COUNT(AVG)']] = float(df.loc[(df.disease==strD),[\"STD_COUNT\"]].mean())"
   ]
  },
  {
   "cell_type": "code",
   "execution_count": null,
   "metadata": {},
   "outputs": [],
   "source": [
    "# df.drop(columns=[\"disease_type\"],inplace =True)\n",
    "# df.head()"
   ]
  },
  {
   "cell_type": "markdown",
   "metadata": {},
   "source": [
    "## find the max STD_COUNT by disease"
   ]
  },
  {
   "cell_type": "code",
   "execution_count": null,
   "metadata": {},
   "outputs": [],
   "source": [
    "df_all_join = None\n",
    "\n",
    "lstJoin = []\n",
    "for i in range(0,len(lstDiseaseT)):\n",
    "    strD = lstDiseaseT[i]\n",
    "    lstJoin.append(df.loc[(df.disease == strD),:].sort_values(\"STD_COUNT\",ascending=0))\n",
    "\n",
    "\n",
    "df_all_join = pd.concat(lstJoin)"
   ]
  },
  {
   "cell_type": "markdown",
   "metadata": {},
   "source": [
    "## export to csv"
   ]
  },
  {
   "cell_type": "code",
   "execution_count": null,
   "metadata": {},
   "outputs": [],
   "source": [
    "strFileName = output_path+\"/icd\"+icd_version+\"_with_outlier.csv\"\n",
    "df_all_join.to_csv(strFileName)"
   ]
  },
  {
   "cell_type": "markdown",
   "metadata": {},
   "source": [
    "## remove outlier\n",
    "1.STD COUNT over than 3"
   ]
  },
  {
   "cell_type": "code",
   "execution_count": null,
   "metadata": {},
   "outputs": [],
   "source": [
    "df.loc[(df.STD_COUNT>= 3),[\"disease\",\"icd_code\",\"title\",\"STD_COUNT\"]]"
   ]
  },
  {
   "cell_type": "code",
   "execution_count": null,
   "metadata": {},
   "outputs": [],
   "source": [
    "strFileName = output_path+\"/icd\"+icd_version+\"_over_\" + str(3) + \"_STD_.csv\"\n",
    "df.loc[(df.STD_COUNT>= 3),[\"disease\",\"icd_code\",\"title\",\"STD_COUNT\"]].to_csv(strFileName)\n",
    "\n",
    "lst = df.loc[(df.STD_COUNT>= 3),[\"disease\",\"icd_code\",\"title\",\"STD_COUNT\"]].index\n",
    "\n",
    "if len(lst):          \n",
    "    df.drop(lst,inplace=True)\n"
   ]
  },
  {
   "cell_type": "code",
   "execution_count": null,
   "metadata": {},
   "outputs": [],
   "source": [
    "df.loc[(df.STD_COUNT>= 3),[\"disease\",\"icd_code\",\"title\",\"STD_COUNT\"]]"
   ]
  },
  {
   "cell_type": "markdown",
   "metadata": {},
   "source": [
    "2.vector is 0 "
   ]
  },
  {
   "cell_type": "code",
   "execution_count": null,
   "metadata": {},
   "outputs": [],
   "source": [
    "df.loc[(df.vector==0),[\"disease\",\"icd_code\",\"title\",\"vector\"]]"
   ]
  },
  {
   "cell_type": "code",
   "execution_count": null,
   "metadata": {},
   "outputs": [],
   "source": [
    "strFileName = output_path+\"/icd\"+icd_version+\"_vec_is_0.csv\"\n",
    "df.loc[(df.vector==0),[\"disease\",\"icd_code\",\"title\",\"vector\"]].to_csv(strFileName)\n",
    "\n",
    "df.drop(df.loc[(df.vector==0),[\"vector\"]].index,inplace=True)"
   ]
  },
  {
   "cell_type": "code",
   "execution_count": null,
   "metadata": {},
   "outputs": [],
   "source": [
    "df.loc[(df.vector==0),[\"disease\",\"icd_code\",\"title\",\"vector\"]]"
   ]
  },
  {
   "cell_type": "code",
   "execution_count": null,
   "metadata": {},
   "outputs": [],
   "source": [
    "sns.set(rc = {'figure.figsize':(25,10)})\n",
    "g = sns.scatterplot(x = df.vector ,y = df.disease_type, hue=df.disease)\n",
    "strFileName = output_path+\"/icd\"+icd_version+\"_remove_outlier.jpeg\"\n",
    "plt.savefig(strFileName, dpi = 300)"
   ]
  },
  {
   "cell_type": "markdown",
   "metadata": {},
   "source": [
    "## compare vector and get intersection count"
   ]
  },
  {
   "cell_type": "code",
   "execution_count": null,
   "metadata": {},
   "outputs": [],
   "source": [
    "strD1 = \"psychosis\"\n",
    "strD2 = \"heart_type_disease\"\n",
    "strD3 = \"neurological_type_disease\"\n",
    "df"
   ]
  },
  {
   "cell_type": "code",
   "execution_count": null,
   "metadata": {},
   "outputs": [],
   "source": [
    "def getCrossRef(aryNp1,aryNp2):\n",
    "\n",
    "    lst = []\n",
    "    lstAvg = []\n",
    "\n",
    "    #print(len(dic1),len(dic2))\n",
    "\n",
    "    for v1 in aryNp1:\n",
    "        lst = []\n",
    "        for v2 in aryNp2:\n",
    "\n",
    "            lst.append([abs(v1-v2)])\n",
    "\n",
    "        lstAvg.append(np.array(lst).mean())\n",
    "\n",
    "    return np.array(lstAvg).mean()"
   ]
  },
  {
   "cell_type": "code",
   "execution_count": null,
   "metadata": {},
   "outputs": [],
   "source": [
    "for strD in lstDiseaseT:\n",
    "    avg = float(df.loc[(df.disease==strD),[\"vector\"]].mean())\n",
    "    med = float(df.loc[(df.disease==strD),[\"vector\"]].median())\n",
    "\n",
    "    df.loc[(df.disease == strD),['AVG']] = avg\n",
    "    df.loc[(df.disease == strD),['MEDIAN']] = med\n",
    "\n",
    "lstJoin = []\n",
    "lstJoin.append(df.loc[(df.disease == strD1),[\"disease\",\"icd_code\",\"title\",\"vector\",\"AVG\",\"MEDIAN\"]])\n",
    "lstJoin.append(df.loc[(df.disease == strD2),[\"disease\",\"icd_code\",\"title\",\"vector\",\"AVG\",\"MEDIAN\"]])\n",
    "lstJoin.append(df.loc[(df.disease == strD3),[\"disease\",\"icd_code\",\"title\",\"vector\",\"AVG\",\"MEDIAN\"]])\n",
    "dfCompare = pd.concat(lstJoin)\n",
    "\n",
    "strFileName = output_path+\"/compare_disease_list.csv\"\n",
    "dfCompare.to_csv(strFileName)\n"
   ]
  },
  {
   "cell_type": "code",
   "execution_count": null,
   "metadata": {},
   "outputs": [],
   "source": [
    "dfD1 = df.loc[(df.disease == strD1),[\"vector\"]]\n",
    "dfD2 = df.loc[(df.disease == strD2),[\"vector\"]]\n",
    "dfD3 = df.loc[(df.disease == strD3),[\"vector\"]]\n",
    "\n",
    "lstsubVecDisease = [\n",
    "    strD1+\" - \"+strD2,\n",
    "    strD1+\" - \"+strD3,\n",
    "    strD2+\" - \"+strD1,\n",
    "    strD2+\" - \"+strD3,\n",
    "    strD3+\" - \"+strD1,\n",
    "    strD3+\" - \"+strD2]\n",
    "\n",
    "lstCorossRef = []\n",
    "lstCorossRef.append(getCrossRef(np.array(dfD1),np.array(dfD2)))\n",
    "lstCorossRef.append(getCrossRef(np.array(dfD1),np.array(dfD3)))\n",
    "lstCorossRef.append(getCrossRef(np.array(dfD2),np.array(dfD1)))\n",
    "lstCorossRef.append(getCrossRef(np.array(dfD2),np.array(dfD3)))\n",
    "lstCorossRef.append(getCrossRef(np.array(dfD3),np.array(dfD1)))\n",
    "lstCorossRef.append(getCrossRef(np.array(dfD3),np.array(dfD2)))\n",
    "\n",
    "lstAVGSubVec = []\n",
    "lstAVGSubVec.append(abs(dfD1.vector.mean()-dfD2.vector.mean()))\n",
    "lstAVGSubVec.append(abs(dfD1.vector.mean()-dfD3.vector.mean()))\n",
    "lstAVGSubVec.append(abs(dfD2.vector.mean()-dfD1.vector.mean()))\n",
    "lstAVGSubVec.append(abs(dfD2.vector.mean()-dfD3.vector.mean()))\n",
    "lstAVGSubVec.append(abs(dfD3.vector.mean()-dfD1.vector.mean()))\n",
    "lstAVGSubVec.append(abs(dfD3.vector.mean()-dfD2.vector.mean()))\n",
    "\n",
    "lstMedSubVec = []\n",
    "lstMedSubVec.append(abs(dfD1.vector.median()-dfD2.vector.median()))\n",
    "lstMedSubVec.append(abs(dfD1.vector.median()-dfD3.vector.median()))\n",
    "lstMedSubVec.append(abs(dfD2.vector.median()-dfD1.vector.median()))\n",
    "lstMedSubVec.append(abs(dfD2.vector.median()-dfD3.vector.median()))\n",
    "lstMedSubVec.append(abs(dfD3.vector.median()-dfD1.vector.median()))\n",
    "lstMedSubVec.append(abs(dfD3.vector.median()-dfD2.vector.median()))\n",
    "\n",
    "strFileName = output_path+\"/icd\"+icd_version+\"_sub_vec.csv\"\n",
    "d = {\"case\":lstsubVecDisease,\"cross_ref\":lstCorossRef,\n",
    "    \"avg_sub_vec\":lstAVGSubVec,\"median_sub_vec\":lstMedSubVec}\n",
    "pd.DataFrame(data=d).to_csv(strFileName)\n"
   ]
  },
  {
   "cell_type": "code",
   "execution_count": null,
   "metadata": {},
   "outputs": [],
   "source": [
    "def getConnString(path:str = './db_conn.txt')->dict:\n",
    "    dic_conn_str = {}\n",
    "\n",
    "    f = open('./db_conn.txt', 'r')\n",
    "\n",
    "    lst_tmp = []\n",
    "    for line in f.readlines():\n",
    "        lst_tmp = line.split(':')\n",
    "        dic_conn_str[lst_tmp[0]] = lst_tmp[1].replace('\\n','')\n",
    "\n",
    "    f.close()\n",
    "    del lst_tmp\n",
    "\n",
    "    print(dic_conn_str)\n",
    "    return dic_conn_str"
   ]
  },
  {
   "cell_type": "code",
   "execution_count": null,
   "metadata": {},
   "outputs": [],
   "source": [
    "import psycopg2\n",
    "\n",
    "\n",
    "dic = getConnString(path='./db_conn.txt')\n",
    "\n",
    "conn_string = f\"host={dic['host']} dbname={dic['dbname']} user={dic['user']} password={dic['password']}\"\n",
    "\n",
    "conn = psycopg2.connect(conn_string)\n",
    "cursor = conn.cursor()\n",
    "\n",
    "def excuteSqltoInt(cursor,strSql):\n",
    "    lst = []\n",
    "\n",
    "    cursor.execute(strSql)\n",
    "    for row in cursor:\n",
    "       lst = lst + list(row)\n",
    "    return lst\n",
    "\n",
    "def getCountByIcdCode(cursor,strIcdCodeList,strVer):\n",
    "\tintRtn = 0\n",
    "\tstrSql = \"\"\"\n",
    "    select count(*) as count from\n",
    "\t(\n",
    "\t\tselect \n",
    "\t\t\tdistinct subject_id\n",
    "\t\tfrom \n",
    "\t\t\tmimic_hosp.diagnoses_icd \n",
    "\t\twhere \n",
    "\t\t\ticd_code in(\"\"\"+strIcdCodeList+\"\"\")\n",
    "\t\tand\n",
    "\t\t\ticd_version = '\"\"\"+strVer+\"\"\"'\n",
    "\t) as tmp\n",
    "    \"\"\"\n",
    "\n",
    "\tlst = excuteSqltoInt(cursor,strSql)\n",
    "\tintRtn = int(lst[0])\n",
    "\tprint(strSql)\n",
    "\n",
    "\treturn \tintRtn\n",
    "\n",
    "def getIntersectionCountByIcdCode(cursor,strIcdCodeList1,strIcdCodeList2,strVer):\n",
    "\tintRtn = 0\n",
    "\tstrSql = \"\"\"\n",
    "\tselect count(*) as count from \n",
    "\t(\n",
    "\t\tselect \n",
    "\t\t\tdistinct subject_id\n",
    "\t\tfrom \n",
    "\t\t\tmimic_hosp.diagnoses_icd \n",
    "\t\twhere \n",
    "\t\t\ticd_code in(\"\"\"+strIcdCodeList1+\"\"\")\n",
    "\t\tand\n",
    "\t\t\ticd_version = '\"\"\"+strVer+\"\"\"'\n",
    "\t) as a,\n",
    "\t(\n",
    "\t\tselect \n",
    "\t\t\tdistinct subject_id\n",
    "\t\tfrom \n",
    "\t\t\tmimic_hosp.diagnoses_icd \n",
    "\t\twhere \n",
    "\t\t\ticd_code in(\"\"\"+strIcdCodeList2+\"\"\")\n",
    "\t\tand\n",
    "\t\t\ticd_version = '\"\"\"+strVer+\"\"\"'\n",
    "\t) as b\n",
    "\twhere a.subject_id = b.subject_id\n",
    "    \"\"\"\n",
    "\n",
    "\tlst = excuteSqltoInt(cursor,strSql)\n",
    "\tintRtn = int(lst[0])\n",
    "\tprint(strSql)\n",
    "\t\n",
    "\treturn intRtn"
   ]
  },
  {
   "cell_type": "code",
   "execution_count": null,
   "metadata": {},
   "outputs": [],
   "source": [
    "def getIcdCodeList(dfIcdCode):\n",
    "\n",
    "    strIcdCodeList = \"\"\n",
    "    \n",
    "    for idx in dfIcdCode.index:\n",
    "        strIcdCodeList = strIcdCodeList + \"'\" + str(dfIcdCode.loc[idx].icd_code) + \"',\"\n",
    "\t\n",
    "    print(strIcdCodeList)\n",
    "    return strIcdCodeList[0:len(strIcdCodeList)-1]"
   ]
  },
  {
   "cell_type": "code",
   "execution_count": null,
   "metadata": {},
   "outputs": [],
   "source": [
    "dfIcdCode1 = df.loc[(df.disease == strD1),[\"icd_code\"]]\n",
    "dfIcdCode2 = df.loc[(df.disease == strD2),[\"icd_code\"]]\n",
    "dfIcdCode3 = df.loc[(df.disease == strD3),[\"icd_code\"]]\n",
    "\n",
    "if len(dfIcdCode1) == 0 | len(dfIcdCode2) == 0 | len(dfIcdCode3) == 0 :\n",
    "    print(strD1 + \" icd_code count:\",len(dfIcdCode1))\n",
    "    print(strD2 + \" icd_code count:\",len(dfIcdCode2))\n",
    "    print(strD3 + \" icd_code count:\",len(dfIcdCode3))\n",
    "else:\n",
    "    lstCodeList=[]\n",
    "    lstCodeList.append(getIcdCodeList(dfIcdCode1))\n",
    "    lstCodeList.append(getIcdCodeList(dfIcdCode2))\n",
    "    lstCodeList.append(getIcdCodeList(dfIcdCode3))\n",
    "\n",
    "    lstDisease=[]\n",
    "    lstDisease.append(strD1)\n",
    "    lstDisease.append(strD2)\n",
    "    lstDisease.append(strD3)\n",
    "\n",
    "    lstCount=[]\n",
    "    lstCount.append(getCountByIcdCode(cursor,lstCodeList[0],icd_version))\n",
    "    lstCount.append(getCountByIcdCode(cursor,lstCodeList[1],icd_version))\n",
    "    lstCount.append(getCountByIcdCode(cursor,lstCodeList[2],icd_version))\n",
    "\n",
    "    lstIntersectionCase=[]\n",
    "    lstIntersectionCase.append(strD1 + \"__intersection__\" + strD2)\n",
    "    lstIntersectionCase.append(strD1 + \"__intersection__\" + strD3)\n",
    "    lstIntersectionCase.append(strD2 + \"__intersection__\" + strD3)\n",
    "\n",
    "    lstIntersectionCount=[]\n",
    "    lstIntersectionCount.append(getIntersectionCountByIcdCode(cursor,lstCodeList[0],lstCodeList[1],icd_version))\n",
    "    lstIntersectionCount.append(getIntersectionCountByIcdCode(cursor,lstCodeList[0],lstCodeList[2],icd_version))\n",
    "    lstIntersectionCount.append(getIntersectionCountByIcdCode(cursor,lstCodeList[1],lstCodeList[2],icd_version))\n",
    "\n",
    "    print(len(lstDisease),len(lstCount),len(lstIntersectionCase),len(lstIntersectionCount))\n",
    "    \n",
    "    strFileName = output_path+\"/icd\"+icd_version+\"_subjectId_count.csv\"\n",
    "    d = {\n",
    "        \"disease\":lstDisease,\n",
    "        \"count\":lstCount,\n",
    "        \"intersection_case\":lstIntersectionCase,\n",
    "        \"intersection_count\":lstIntersectionCount\n",
    "        }\n",
    "    pd.DataFrame(data=d).to_csv(strFileName)"
   ]
  }
 ],
 "metadata": {
  "interpreter": {
   "hash": "883d146e125829118e24069cc7b1a346fb29d913dbb8228438d22a0dd8540ce7"
  },
  "kernelspec": {
   "display_name": "Python 3.8.12 ('scispacy')",
   "language": "python",
   "name": "python3"
  },
  "language_info": {
   "codemirror_mode": {
    "name": "ipython",
    "version": 3
   },
   "file_extension": ".py",
   "mimetype": "text/x-python",
   "name": "python",
   "nbconvert_exporter": "python",
   "pygments_lexer": "ipython3",
   "version": "3.8.12"
  },
  "orig_nbformat": 4
 },
 "nbformat": 4,
 "nbformat_minor": 2
}
